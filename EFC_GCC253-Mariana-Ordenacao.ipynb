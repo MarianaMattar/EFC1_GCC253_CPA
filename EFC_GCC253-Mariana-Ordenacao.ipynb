{
 "cells": [
  {
   "cell_type": "markdown",
   "metadata": {},
   "source": [
    "# EFC1 GCC253 - Complexidade e Projeto de Algoritmos\n",
    "\n",
    "> Prof.: Douglas H. S. Abreu\n",
    "\n",
    "**Aluna:** Mariana Luiza Silva Mattar\n",
    "\n",
    "**Matrícula:** 201810286\n",
    "\n",
    "**Turma:** 10A, 14A"
   ]
  },
  {
   "cell_type": "markdown",
   "metadata": {},
   "source": [
    "# Importações e Variáveis Globais"
   ]
  },
  {
   "cell_type": "code",
   "execution_count": 63,
   "metadata": {},
   "outputs": [],
   "source": [
    "import numpy as np\n",
    "\n",
    "\n",
    "# arranjos de teste\n",
    "ARRANJO_1 = [5, 10, 20, 1, 30]\n",
    "ARRANJO_2 = [50, 10, 15, 20, 5]\n",
    "ARRANJO_3 = [1, 2, 3, 6, 4, 5]\n",
    "ARRANJO_4 = [10, 12, 31, 0, 1, 9, 2, 24, 99, 101, 88, 7] # Arranjo adicional para melhor visualização do QuickSort"
   ]
  },
  {
   "cell_type": "markdown",
   "metadata": {},
   "source": [
    "# Funções de Ordenação"
   ]
  },
  {
   "cell_type": "markdown",
   "metadata": {},
   "source": [
    "## Função Auxiliar de Troca\n",
    "\n",
    "Os algoritmos usam essa função para fazer a mudança de posição dos valores dentro do array."
   ]
  },
  {
   "cell_type": "code",
   "execution_count": 32,
   "metadata": {},
   "outputs": [],
   "source": [
    "def troca (array, A, B):\n",
    "    reserva  = array[A]\n",
    "    array[A] = array[B]\n",
    "    array[B] = reserva"
   ]
  },
  {
   "cell_type": "markdown",
   "metadata": {},
   "source": [
    "## Insertion Sort"
   ]
  },
  {
   "cell_type": "code",
   "execution_count": null,
   "metadata": {},
   "outputs": [],
   "source": [
    "def insertionSort(array):\n",
    "  # O insertion inicia no segundo elemento para fazer comparações a esquerda.\n",
    "  print(array)\n",
    "  for i in range(1, len(array)):\n",
    "    # posição i do vetor passa a ser a chave\n",
    "    key = array[i]\n",
    "    j = i - 1\n",
    "\n",
    "    # Enquanto j for maior ou igual a 0 e o valor chave for menor que o valor\n",
    "    # na posição j do array: \n",
    "    while j >= 0 and key < array[j]:\n",
    "      array[j+1] = array[j] # replica o valor presente na posição anterior para a posterior\n",
    "      j = j - 1 \n",
    "      print(array)\n",
    "\n",
    "    # Salva a chave.\n",
    "    array[j+1] = key\n",
    "    print(array, f\" fim da iteração {i}\\n\")"
   ]
  },
  {
   "cell_type": "markdown",
   "metadata": {},
   "source": [
    "Funcionamento para o Arranjo 1:\n",
    "\n",
    "Início\n",
    "\n",
    "|Iteração|Descrição|\n",
    "|---|---|\n",
    "|[**5, 10**, 20, 1, 30]|   5 e 10 são os primeiros a serem comparados|\n",
    "|[**5, 10**, 20, 1, 30]|   5 e 10 já estão ordenados|\n",
    "|--|--|\n",
    "|[**5, 10, 20**, 1, 30]|   Já ordenados|\n",
    "|--|--|\n",
    "|[**5, 10, 20, 1** , 30]|   1 precisa ir pro começo do arranjo|\n",
    "|[**5, 10, 20, 20**, 30]|  20 é copiado para a posição do 1|\n",
    "|[**5, 10, 10, 20**, 30]|  10 é copiado para a posição do 20|\n",
    "|[**5, 5 , 10, 20**, 30]|  5 é copiado para a posição do 10|\n",
    "|[**1, 5 , 10, 20**, 30]|  1 é copiado para a posição do 5|\n",
    "|--|--|\n",
    "|[**1, 5 , 10, 20, 30**]|  Já está ordenado|\n"
   ]
  },
  {
   "cell_type": "markdown",
   "metadata": {},
   "source": [
    "Funcionamento para o Arranjo 2:\n",
    "\n",
    "\n",
    "|Iteração|Descrição|\n",
    "|---|---|\n",
    "|[**50, 10**, 15, 20, 5]|   50 e 10 começam o algoritmo e precisam ser trocados|\n",
    "|[**50, 50**, 15, 20, 5]|   50 é copiado para a posição do 10|\n",
    "|[**10, 50**, 15, 20, 5]|   10 que estava reservado é copiado para a antiga posição de 50, pronto.|\n",
    "|--|--|\n",
    "|[**10, 50, 15**, 20, 5]|   15 é menor que 50|\n",
    "|[**10, 50, 50**, 20, 5]|   50 é replicado para frente.|\n",
    "|[**10, 15, 50**, 20, 5]|   15 é maior que 10, 15 é inserido na posição.|\n",
    "|--|--|\n",
    "|[**10, 15, 50, 20**, 5]|   Padrão se repete para 50 e 20.|\n",
    "|[**10, 15, 50, 50**, 5]|   |\n",
    "|[**10, 15, 20, 50**, 5]|   |\n",
    "|--|--|\n",
    "|[**10, 15, 20, 50, 5**]|   Agora o 5 precisa ir pro início do arranjo|\n",
    "|[**10, 15, 20, 50, 50**]|   |\n",
    "|[**10, 15, 20, 20, 50**]|   |\n",
    "|[**10, 15, 15, 20, 50**]|   |\n",
    "|[**10, 10, 15, 20, 50**]|   |\n",
    "|[**5, 10, 15, 20, 50**]|   Fim.|\n"
   ]
  },
  {
   "cell_type": "markdown",
   "metadata": {},
   "source": [
    "Funcionamento para o Arranjo 3:\n",
    "\n",
    "|Iteração|Descrição|\n",
    "|---|---|\n",
    "|[**1, 2**, 3, 6, 4, 5]|   1 e 2 começam o algoritmo e estão ordenados|\n",
    "|---|---|\n",
    "|[**1, 2, 3**, 6, 4, 5]|   Passo já está ordenado.|\n",
    "|---|---|\n",
    "|[**1, 2, 3, 6**, 4, 5]|   Passo já está ordenado.|\n",
    "|---|---|\n",
    "|[**1, 2, 3, 6, 4**, 5]|   6 e 4 precisam ser trocados.|\n",
    "|[**1, 2, 3, 6, 6**, 5]|   |\n",
    "|[**1, 2, 3, 4, 6**, 5]|   Passo ordenado.|\n",
    "|---|---|\n",
    "|[**1, 2, 3, 4, 6, 5**]|   6 e 5 precisam ser trocados.|\n",
    "|[**1, 2, 3, 4, 6, 6**]|   |\n",
    "|[**1, 2, 3, 4, 5, 6**]|   Pronto.|"
   ]
  },
  {
   "cell_type": "markdown",
   "metadata": {},
   "source": [
    "## Merge Sort"
   ]
  },
  {
   "cell_type": "code",
   "execution_count": 69,
   "metadata": {},
   "outputs": [],
   "source": [
    "def mergeSort(array,complemento=None):\n",
    "  print(array)\n",
    "  if (len(array) > 1):\n",
    "    \n",
    "    meio = len(array) // 2 # posição de divisão\n",
    "    esquerda = array[:meio].copy() \n",
    "    direita  = array[meio:].copy()\n",
    "\n",
    "    # Ordena os lados\n",
    "    mergeSort(esquerda)\n",
    "    mergeSort(direita)\n",
    "\n",
    "\n",
    "    # Merge\n",
    "    # Compara os vetores ordenados esquerda e direita\n",
    "    # voltando a formar o array original de forma ordenada.    \n",
    "    i = j = k = 0\n",
    "    print(esquerda, \" <--> \", direita, \"   merging \")\n",
    "    while i < len(esquerda) and j < len(direita):\n",
    "      if esquerda[i] < direita[j]:\n",
    "        array[k] = esquerda[i]\n",
    "        i += 1\n",
    "      else:\n",
    "        array[k] = direita[j]\n",
    "        j += 1\n",
    "      k += 1\n",
    "\n",
    "    # Realocação de valores que sobraram\n",
    "    while i < len(esquerda):\n",
    "      array[k] = esquerda[i]\n",
    "      k += 1\n",
    "      i += 1      \n",
    "    \n",
    "    while j < len(direita):\n",
    "      array[k] = direita[j]\n",
    "      k += 1\n",
    "      j += 1\n",
    "\n",
    "    print(array, f\" merged \\n\")\n",
    "  \n"
   ]
  },
  {
   "cell_type": "markdown",
   "metadata": {},
   "source": [
    "## Selection Sort"
   ]
  },
  {
   "cell_type": "code",
   "execution_count": 79,
   "metadata": {},
   "outputs": [],
   "source": [
    "def selectionSort(array):\n",
    "  print(array)\n",
    "  for i in range(len(array)):\n",
    "    minimo = i # Considera que i é o valor mínimo\n",
    "    for j in range(i+1, len(array)):\n",
    "      if (array[j] < array[minimo]):\n",
    "        minimo = j\n",
    "    \n",
    "    if (i != minimo):\n",
    "      # Troca i com minimo\n",
    "      troca(array, i, minimo)\n",
    "      print(array, f\" trocados {i} e {minimo} de lugar\")\n",
    "  print(array)"
   ]
  },
  {
   "cell_type": "markdown",
   "metadata": {},
   "source": [
    "Funcionamento para o Arranjo 1:\n",
    "\n",
    "|Iteração|Descrição|\n",
    "|---|---|\n",
    "|[ **(5)**, 10, 20, **(1)**, 30 ]|   5 está na posição de menor, mas o algoritmo encontra que o 1 é o menor|\n",
    "|[ **(1)**, 10, 20, **(5)**, 30 ]|   troca-os de lugar|\n",
    "|--|--|\n",
    "|[ 1, **(10)**, 20, **(5)**, 30 ]|   10 está na posição de segundo menor, mas o algoritmo encontra que essa posição pertence ao 5|\n",
    "|[ 1, **(5)**, 20, **(10)**, 30 ]|   troca-os de lugar|\n",
    "|--|--|\n",
    "|[ 1, 5, **(20)**, **(10)**, 30 ]|   O mesmo se repete para 20 e 10|\n",
    "|[ 1, 5, **(10)**, **(20)**, 30 ]|   Troca-os de lugar|\n",
    "|--|--|\n",
    "|[ 1, 5, 10, 20, 30 ]|   Ordenado.|"
   ]
  },
  {
   "cell_type": "markdown",
   "metadata": {},
   "source": [
    "Funcionamento para o Arranjo 2:\n",
    "\n",
    "\n",
    "|Iteração|Descrição|\n",
    "|---|---|\n",
    "|[ **(50)**, 10, 15, 20, **(5)**]|   50 está na posição de menor, mas o algoritmo encontra que deveria ser o 5|\n",
    "|[ **(5)**, 10, 15, 20, **(50)**]|   Troca-os de lugar.|\n",
    "|--|--|\n",
    "|[ 5, 10, 15, 20, 50 ]|   Fim.|\n"
   ]
  },
  {
   "cell_type": "markdown",
   "metadata": {},
   "source": [
    "Funcionamento para o Arranjo 3:\n",
    "\n",
    "|Iteração|Descrição|\n",
    "|---|---|\n",
    "|[ 1, 2, 3, 6, 4, 5 ] |   1, 2 e 3 já estão ordenados|\n",
    "|---|---|\n",
    "|[ 1, 2, 3, **(6)**, **(4)**, 5 ] |   6 está na posição que deveria ser do 4|\n",
    "|[ 1, 2, 3, **(4)**, **(6)**, 5 ] |   Troca-os de lugar|\n",
    "|---|---|\n",
    "|[ 1, 2, 3, 4, **(6)**, **(5)** ] |   6 está na posição que deveria ser do 5|\n",
    "|[ 1, 2, 3, 4, **(5)**, **(6)** ] |   Troca-os de lugar|\n",
    "|---|---|\n",
    "|[ 1, 2, 3, 4, 5, 6 ] |   Pronto.|"
   ]
  },
  {
   "cell_type": "markdown",
   "metadata": {},
   "source": [
    "## Bubble Sort"
   ]
  },
  {
   "cell_type": "code",
   "execution_count": null,
   "metadata": {},
   "outputs": [],
   "source": [
    "def bubbleSort(array):\n",
    "  print(array)\n",
    "  for i in range (len(array)):\n",
    "    for j in range (len(array)-1):\n",
    "      if (array[j] > array[j+1]):\n",
    "        troca(array, j, j+1)\n",
    "        print(array)\n",
    "    print(array, f\" fim da iteração {i}.\\n\")"
   ]
  },
  {
   "cell_type": "markdown",
   "metadata": {},
   "source": [
    "Funcionamento para o Arranjo 1:\n",
    "\n",
    "|Iteração|Descrição|\n",
    "|---|---|\n",
    "|--|ITERAÇÃO 1|\n",
    "|[ 5, 10, **(20, 1)**, 30 ]|  20 é o único elemento sendo sucedido por outro que é menor que ele.|\n",
    "|[ 5, 10, **(1, 20)**, 30 ]|  Troca.|\n",
    "|[ 5, 10, 1, 20, **({ 30 }** ]|  30 é o maior elemento do arranjo, está na sua posição. Fim da iteração.|\n",
    "|--|ITERAÇÃO 2|\n",
    "|[ 5, **(10, 1)**, 20, **({ 30 }** ]|  10 é o primeiro elemento sendo sucedido por outro que é menor que ele.|\n",
    "|[ 5, **(1, 10)**, 20, **({ 30 }** ]|  Troca.|\n",
    "|[ 5, 1, 10, **({ 20, 30 }** ]|  20 adicionado à bolha ordenada.|\n",
    "|--|ITERAÇÃO 3|\n",
    "|[ **(5, 1)**, 10, 20, 30 ]|  5 é o único elemento sendo sucedido por outro que é menor que ele.|\n",
    "|[ **(1, 5)**, 10, **({ 20, 30 }**  ]|  Troca.|\n",
    "|[ 1, 5, **({ 10, 20, 30 }**  ]|  10 adicionado à bolha ordenada.|\n",
    "|--|ITERAÇÃO 4|\n",
    "|[ 1, **({ 5, 10, 20, 30 }**  ]|  5 adicionado à bolha ordenada.|\n",
    "|--|ITERAÇÃO 5|\n",
    "|[ **({ 1, 5, 10, 20, 30 }**  ]|  1 adicionado à bolha ordenada.|\n",
    "|--|--|\n",
    "|[ 1, 5, 10, 20, 30 ]|   Ordenado.|"
   ]
  },
  {
   "cell_type": "markdown",
   "metadata": {},
   "source": [
    "Funcionamento para o Arranjo 2:\n",
    "\n",
    "\n",
    "|Iteração|Descrição|\n",
    "|:---:|---|\n",
    "|--|ITERAÇÃO 1|\n",
    "|[ **(50, 10)**, 15, 20, 5 ]|  O elemento 50 é maior que seu sucessor, troca.|\n",
    "|[ **(10, 50)**, 15, 20, 5 ]|  |\n",
    "|[ 10, **(50, 15)**, 20, 5 ]|  50 continua maior que seu sucessor. Troca.|\n",
    "|[ 10, **(15, 50)**, 20, 5 ]|  |\n",
    "|[ 10, 15, **(50, 20)**, 5 ]|  50 continua maior que seu sucessor. Troca.|\n",
    "|[ 10, 15, **(20, 50)**, 5 ]|  |\n",
    "|[ 10, 15, 20, **(50, 5)** ]|  50 continua maior que seu sucessor. Troca.|\n",
    "|[ 10, 15, 20, **(5, 50)** ]|  50 continua maior que seu sucessor. Troca.|\n",
    "|[ 10, 15, 20, 5, **{ 50 }** ]|  50 é o maior elemento. Está no seu lugar. Fim da Iteração.|\n",
    "|--|ITERAÇÃO 2|\n",
    "|[ 10, 15, **(20, 5)**, **{ 50 }** ]|  20 é o primeiro elemento que é maior que seu sucessor, troca.|\n",
    "|[ 10, 15, **(5, 20)**, **{ 50 }** ]|  |\n",
    "|[ 10, 15, 5, **{ 20, 50 }** ]|  20 é adicionado à bolha ordenada.|\n",
    "|--|ITERAÇÃO 3|\n",
    "|[ 10, **(15, 5)**, **{ 20, 50 }** ]|  15 é o primeiro elemento que é maior que seu sucessor, troca.|\n",
    "|[ 10, **(5, 15)**, **{ 20, 50 }** ]|   |\n",
    "|[ 10, 5, **{ 15, 20, 50 }** ]|  15 é adicionado à bolha ordenada. |\n",
    "|--|ITERAÇÃO 4|\n",
    "|[ **(10, 5)**, **{ 15, 20, 50 }** ]|   10 é o primeiro elemento que é maior que seu sucessor, troca.|\n",
    "|[ **(5, 10)**, **{ 15, 20, 50 }** ]|    |\n",
    "|[ 5, **{ 10, 15, 20, 50 }** ]|  10 é adicionado à bolha ordenada.  |\n",
    "|--|ITERAÇÃO 5|\n",
    "|[ **{ 5, 10, 15, 20, 50 }** ]|  5 é adicionado à bolha ordenada. Fim.|"
   ]
  },
  {
   "cell_type": "markdown",
   "metadata": {},
   "source": [
    "Funcionamento para o Arranjo 3:\n",
    "\n",
    "|Iteração|Descrição|\n",
    "|---|---|\n",
    "|--|ITERAÇÃO 1|\n",
    "|[1, 2, 3, **(6, 4)**, 5]|  6 é o primeiro elemento sendo sucedido por outro que é menor que ele.|\n",
    "|[1, 2, 3, **(4, 6)**, 5]|  Troca.|\n",
    "|[1, 2, 3, 4, **(6, 5)**]|  6 segue sendo maior.|\n",
    "|[1, 2, 3, 4, **(5, 6)**]|  Troca.|\n",
    "|[1, 2, 3, 4, 5, **{ 6 }**]|  6 é o maior, inicia a bolha ordenada.|\n",
    "|--|ITERAÇÃO 2|\n",
    "|[1, 2, 3, 4,  **{ 5, 6 }**]|  5 é adicionado à bolha ordenada.|\n",
    "|--|ITERAÇÃO 3|\n",
    "|[1, 2, 3, **{ 4, 5, 6 }**]|  4 é adicionado à bolha ordenada.|\n",
    "|--|ITERAÇÃO 4|\n",
    "|[1, 2, **{ 3, 4, 5, 6 }**]|  3 é adicionado à bolha ordenada.|\n",
    "|--|ITERAÇÃO 5|\n",
    "|[1, **{ 2, 3, 4, 5, 6 }**]|  2 é adicionado à bolha ordenada.|\n",
    "|--|ITERAÇÃO 6|\n",
    "|[ **{ 1, 2, 3, 4, 5, 6 }**]|  1 é adicionado à bolha ordenada.|\n",
    "|--|--|\n",
    "|[ 1, 2, 3, 4, 5, 6 ]|  Ordenado.|"
   ]
  },
  {
   "cell_type": "markdown",
   "metadata": {},
   "source": [
    "## Heap Sort"
   ]
  },
  {
   "cell_type": "code",
   "execution_count": 55,
   "metadata": {},
   "outputs": [],
   "source": [
    "def heapify(array, n, i):\n",
    "  maior = i\n",
    "  esquerda = 2 * i + 1\n",
    "  direita = 2 * i + 2\n",
    "\n",
    "  if (esquerda < n and array[i] < array[esquerda]): \n",
    "    maior = esquerda\n",
    "  if (direita < n and array[maior] < array[direita]): \n",
    "    maior = direita\n",
    "  if maior != i:\n",
    "    troca(array, i, maior)\n",
    "    heapify(array, n, maior)\n",
    "\n",
    "def heapSort(array, complemento=None):\n",
    "  n = len(array)\n",
    "  comparacoes = 0\n",
    "  for i in range(n//2, -1, -1):\n",
    "    print(array, f\" heapifying {i} \",end=\"\")\n",
    "    heapify(array, n, i)\n",
    "    print(array)\n",
    "\n",
    "  for i in range(n-1, 0, -1):\n",
    "    print(array, f\" heapifying {i} \",end=\"\")\n",
    "    troca(array, i, 0)\n",
    "    heapify(array, i, 0)\n",
    "    print(array)\n",
    "  \n",
    "  print(array, \" ordenado \")"
   ]
  },
  {
   "cell_type": "markdown",
   "metadata": {},
   "source": [
    "## Quick Sort com pivô sendo o último elemento do arranjo"
   ]
  },
  {
   "cell_type": "code",
   "execution_count": 64,
   "metadata": {},
   "outputs": [],
   "source": [
    "def quickSort(array, complemento=None):\n",
    "  if (complemento == None): \n",
    "    complemento = (0, len(array)-1);\n",
    "    \n",
    "  ini = complemento[0]\n",
    "  fim = complemento[1]\n",
    "\n",
    "  print(array)\n",
    "  if (ini < fim):\n",
    "    pivo = array[fim] # pivô final\n",
    "    \n",
    "    i = ini - 1\n",
    "    for j in range(ini, fim):\n",
    "      if array[j] <= pivo:\n",
    "        i += 1\n",
    "        troca(array, i, j)\n",
    "        print(array, f\" trocadas posições {i} e {j} \")\n",
    "    \n",
    "    troca(array, i+1, fim)\n",
    "    print(array, f\" trocadas posições {i+1} e {fim} \")\n",
    "\n",
    "    quickSort(array, (ini, i))\n",
    "    quickSort(array, (i+2, fim))\n",
    "    "
   ]
  },
  {
   "cell_type": "markdown",
   "metadata": {},
   "source": [
    "## Função de Chamada\n",
    "\n",
    "O código abaixo deve ser usado para chamar e testar as funções de ordenação desenvolvidas acima.\n",
    "Descomente somente a chamada de função que deseja testar, depois comente novamente para descomentar outra."
   ]
  },
  {
   "cell_type": "code",
   "execution_count": null,
   "metadata": {},
   "outputs": [],
   "source": [
    "i = 1\n",
    "for arranjo in [ARRANJO_1, ARRANJO_2, ARRANJO_3, ARRANJO_4]:\n",
    "  print(f\" --- Início do Arranjo {i} --- \")\n",
    "  #insertionSort(arranjo.copy())\n",
    "  #mergeSort(arranjo.copy())\n",
    "  selectionSort(arranjo.copy())\n",
    "  #bubbleSort(arranjo.copy())\n",
    "  #heapSort(arranjo.copy())\n",
    "  #quickSort(arranjo.copy())\n",
    "  print(f\" --- Fim do Arranjo {i} --- \\n\\n\")\n",
    "  i += 1"
   ]
  }
 ],
 "metadata": {
  "kernelspec": {
   "display_name": "Python 3.10.6 64-bit",
   "language": "python",
   "name": "python3"
  },
  "language_info": {
   "codemirror_mode": {
    "name": "ipython",
    "version": 3
   },
   "file_extension": ".py",
   "mimetype": "text/x-python",
   "name": "python",
   "nbconvert_exporter": "python",
   "pygments_lexer": "ipython3",
   "version": "3.10.6"
  },
  "orig_nbformat": 4,
  "vscode": {
   "interpreter": {
    "hash": "b0fa6594d8f4cbf19f97940f81e996739fb7646882a419484c72d19e05852a7e"
   }
  }
 },
 "nbformat": 4,
 "nbformat_minor": 2
}
